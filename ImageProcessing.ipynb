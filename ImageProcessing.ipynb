{
 "cells": [
  {
   "cell_type": "code",
   "execution_count": 25,
   "metadata": {},
   "outputs": [
    {
     "name": "stdout",
     "output_type": "stream",
     "text": [
      "SUCCESSfully aligned! :-)\n"
     ]
    }
   ],
   "source": [
    "from __future__ import print_function\n",
    "import cv2\n",
    "import numpy as np\n",
    "import glob \n",
    "MAX_FEATURES = 500\n",
    "GOOD_MATCH_PERCENT = 0.15\n",
    " \n",
    " \n",
    "def alignImages(img1, img2):\n",
    "  #this converts all the images into gray scale\n",
    "  img1Gr = cv2.cvtColor(img1, cv2.COLOR_BGR2GRAY)\n",
    "  img2Gr = cv2.cvtColor(img2, cv2.COLOR_BGR2GRAY)\n",
    "  # Detect ORB features and compute descriptors.\n",
    "  orb = cv2.ORB_create(MAX_FEATURES)\n",
    "  keypoints1, d1 = orb.detectAndCompute(img1Gr, None)\n",
    "  keypoints2, d2 = orb.detectAndCompute(img2Gr, None)\n",
    "  # feature points are matched between two images(planes)\n",
    "  matcher = cv2.DescriptorMatcher_create(cv2.DESCRIPTOR_MATCHER_BRUTEFORCE_HAMMING)\n",
    "  matches = matcher.match(d1, d2, None)\n",
    "  # sorting the scores of matches\n",
    "  matches.sort(key=lambda x: x.distance, reverse=False)\n",
    "  # dropping poor matching features\n",
    "  numGoodMatches = int(len(matches) * GOOD_MATCH_PERCENT)\n",
    "  matches = matches[:numGoodMatches]\n",
    "  # selecting the best matching features\n",
    "  imMatches = cv2.drawMatches(img1, keypoints1, img2, keypoints2, matches, None)\n",
    "  cv2.imwrite(\"matches.jpg\", imMatches)\n",
    "  # Extract the location of those matches\n",
    "  points1 = np.zeros((len(matches), 2), dtype=np.float32)\n",
    "  points2 = np.zeros((len(matches), 2), dtype=np.float32)\n",
    " \n",
    "  for i, match in enumerate(matches):\n",
    "    points1[i, :] = keypoints1[match.queryIdx].pt\n",
    "    points2[i, :] = keypoints2[match.trainIdx].pt\n",
    "  h, mask = cv2.findHomography(points1, points2, cv2.RANSAC)\n",
    "  height, width, channels = img2.shape\n",
    "  img1Reg = cv2.warpPerspective(img1, h, (width, height))\n",
    "  return img1Reg, h\n",
    " \n",
    " \n",
    "if __name__ == '__main__':\n",
    "  # Reading orginal image\n",
    "  ref = \"C:/Users/SRI HARI/Desktop/augmented_new/Original/original.jpg\"\n",
    "  imReference = cv2.imread(ref, cv2.IMREAD_COLOR)\n",
    "  inpath = \"C:/Users/SRI HARI/Desktop/augmented_new/Test_images/*.jpg\"\n",
    "  outpath = \"C:/Users/SRI HARI//Desktop/augmented_new/out/\"\n",
    "  files = glob.glob(inpath)\n",
    "  # Read image to be aligned\n",
    "  cnt = 0\n",
    "  #print(\"check\")\n",
    "  for imFilename in files :\n",
    "      cnt+=1\n",
    "      #print(\"check1\");  \n",
    "      im = cv2.imread(imFilename, cv2.IMREAD_COLOR)\n",
    "      #print(\"check alignment!\") \n",
    "      imReg, h = alignImages(im, imReference)\n",
    "      # writeing aligned imgs to destination \n",
    "      outFile = str(outpath) + \"out\" + str(cnt) + \".jpg\"\n",
    "      cv2.imwrite(outFile, imReg)\n",
    "  print(\"SUCCESSfully aligned! :-)\");"
   ]
  },
  {
   "cell_type": "code",
   "execution_count": null,
   "metadata": {},
   "outputs": [],
   "source": []
  }
 ],
 "metadata": {
  "kernelspec": {
   "display_name": "Python 3",
   "language": "python",
   "name": "python3"
  },
  "language_info": {
   "codemirror_mode": {
    "name": "ipython",
    "version": 3
   },
   "file_extension": ".py",
   "mimetype": "text/x-python",
   "name": "python",
   "nbconvert_exporter": "python",
   "pygments_lexer": "ipython3",
   "version": "3.6.5"
  }
 },
 "nbformat": 4,
 "nbformat_minor": 2
}
